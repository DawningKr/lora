{
 "cells": [
  {
   "cell_type": "code",
   "execution_count": 1,
   "metadata": {},
   "outputs": [],
   "source": [
    "import torch\n",
    "from torchvision.datasets import MNIST\n",
    "from torchvision.transforms import ToTensor\n",
    "from torch import nn\n",
    "from torch.utils.data import DataLoader\n",
    "import lora\n",
    "from lora import LoRA\n",
    "from lora.nn import Linear"
   ]
  },
  {
   "cell_type": "code",
   "execution_count": 2,
   "metadata": {},
   "outputs": [],
   "source": [
    "def accuracy(y_true, y_pred):\n",
    "    total_num = len(y_true)\n",
    "    correct = torch.sum(y_true == y_pred)\n",
    "    return correct / total_num"
   ]
  },
  {
   "cell_type": "code",
   "execution_count": 3,
   "metadata": {},
   "outputs": [],
   "source": [
    "BATCH_SIZE = 128\n",
    "epochs = 10\n",
    "torch.manual_seed(42)\n",
    "device = 'cuda' if torch.cuda.is_available() else 'cpu'"
   ]
  },
  {
   "cell_type": "code",
   "execution_count": 4,
   "metadata": {},
   "outputs": [],
   "source": [
    "train_data = MNIST(\"data/\", train=True, transform=ToTensor(), download=True)\n",
    "test_data = MNIST(\"data/\", train=False, transform=ToTensor(), download=True)\n",
    "\n",
    "train_dataloader = DataLoader(train_data, batch_size=BATCH_SIZE, shuffle=True)\n",
    "test_dataloader = DataLoader(test_data, batch_size=BATCH_SIZE, shuffle=True)"
   ]
  },
  {
   "cell_type": "code",
   "execution_count": 5,
   "metadata": {},
   "outputs": [],
   "source": [
    "class LinearModel(nn.Module, LoRA):\n",
    "    def __init__(self, in_features, out_features) -> None:\n",
    "        super().__init__()\n",
    "        self.layer1 = Linear(in_features, 1000)\n",
    "        self.layer2 = Linear(1000, 2000)\n",
    "        self.layer3 = Linear(2000, out_features)\n",
    "    \n",
    "    def forward(self, X):\n",
    "        out = self.layer1(X)\n",
    "        out = self.layer2(out)\n",
    "        out = self.layer3(out)\n",
    "        return out\n",
    "    \n",
    "    def train(self, epochs, train_dataloader, loss_fn, optimizer, device):\n",
    "        for epoch in range(epochs):\n",
    "            for X_train, y_train in train_dataloader:\n",
    "                X_train= X_train.view(-1, 28 * 28).type(torch.float32).to(device)\n",
    "                y_train = y_train.to(device)\n",
    "                y_pred = self(X_train)\n",
    "                loss = loss_fn(y_pred, y_train)\n",
    "                optimizer.zero_grad()\n",
    "                loss.backward()\n",
    "                optimizer.step()\n",
    "        \n",
    "    def eval(self, test_dataloader, loss_fn, accuracy_fn, device):\n",
    "        with torch.inference_mode():\n",
    "            test_loss, test_acc = 0, 0\n",
    "            for X_test, y_test in test_dataloader:\n",
    "                X_test= X_test.view(-1, 28 * 28).type(torch.float32).to(device)\n",
    "                y_test = y_test.to(device)\n",
    "                y_pred = self(X_test)\n",
    "                test_loss += loss_fn(y_pred, y_test)\n",
    "                test_acc += accuracy_fn(y_test, y_pred.argmax(dim=1))\n",
    "            test_loss /= len(test_dataloader)\n",
    "            test_acc /= len(test_dataloader)\n",
    "            print(f\"Test Acc: {test_acc} | Test Loss: {test_loss}\")\n",
    "    \n",
    "    def get_lora_layers(self):\n",
    "        return [self.layer1, self.layer2, self.layer3]"
   ]
  },
  {
   "cell_type": "code",
   "execution_count": 6,
   "metadata": {},
   "outputs": [],
   "source": [
    "model = LinearModel(28 * 28, 10).to(device)\n",
    "loss_fn = nn.CrossEntropyLoss()\n",
    "optimizer = torch.optim.Adam(model.parameters(), lr=0.001)"
   ]
  },
  {
   "cell_type": "code",
   "execution_count": 7,
   "metadata": {},
   "outputs": [
    {
     "name": "stdout",
     "output_type": "stream",
     "text": [
      "Test Acc: 0.9212816953659058 | Test Loss: 0.29458293318748474\n"
     ]
    }
   ],
   "source": [
    "model.train(epochs, train_dataloader, loss_fn, optimizer, device)\n",
    "model.eval(test_dataloader, loss_fn, accuracy, device)"
   ]
  },
  {
   "cell_type": "code",
   "execution_count": 8,
   "metadata": {},
   "outputs": [
    {
     "data": {
      "text/plain": [
       "LinearModel(\n",
       "  (layer1): Linear(\n",
       "    (linear): Linear(in_features=784, out_features=1000, bias=True)\n",
       "    (lora_A): Linear(in_features=784, out_features=8, bias=False)\n",
       "    (lora_B): Linear(in_features=8, out_features=1000, bias=False)\n",
       "  )\n",
       "  (layer2): Linear(\n",
       "    (linear): Linear(in_features=1000, out_features=2000, bias=True)\n",
       "    (lora_A): Linear(in_features=1000, out_features=8, bias=False)\n",
       "    (lora_B): Linear(in_features=8, out_features=2000, bias=False)\n",
       "  )\n",
       "  (layer3): Linear(\n",
       "    (linear): Linear(in_features=2000, out_features=10, bias=True)\n",
       "    (lora_A): Linear(in_features=2000, out_features=8, bias=False)\n",
       "    (lora_B): Linear(in_features=8, out_features=10, bias=False)\n",
       "  )\n",
       ")"
      ]
     },
     "execution_count": 8,
     "metadata": {},
     "output_type": "execute_result"
    }
   ],
   "source": [
    "lora_layers = model.get_lora_layers()\n",
    "for layer in lora_layers:\n",
    "    layer.set_lora_configs(rank=8, alpha=1)\n",
    "    layer.set_lora_status(True)\n",
    "model.to(device)"
   ]
  },
  {
   "cell_type": "code",
   "execution_count": 9,
   "metadata": {},
   "outputs": [
    {
     "name": "stdout",
     "output_type": "stream",
     "text": [
      "Test Acc: 0.9226661920547485 | Test Loss: 0.2909885346889496\n"
     ]
    }
   ],
   "source": [
    "model.train(epochs, train_dataloader, loss_fn, optimizer, device)\n",
    "model.eval(test_dataloader, loss_fn, accuracy, device)"
   ]
  },
  {
   "cell_type": "code",
   "execution_count": null,
   "metadata": {},
   "outputs": [],
   "source": [
    "lora_state = lora.lora_state_dict(model)\n",
    "torch.save(lora_state, \"chkpts/test_lora_state.pth\")"
   ]
  },
  {
   "cell_type": "code",
   "execution_count": null,
   "metadata": {},
   "outputs": [],
   "source": [
    "new_model = LinearModel(28 * 28, 10)\n",
    "new_model = lora.set_lora_configs_all(new_model, rank=8, alpha=1, enable_lora=False)\n",
    "lora_state = torch.load('chkpts/test_lora_state.pth', weights_only=True)\n",
    "new_model.load_state_dict(lora_state, strict=False)"
   ]
  }
 ],
 "metadata": {
  "kernelspec": {
   "display_name": "AI-Base",
   "language": "python",
   "name": "python3"
  },
  "language_info": {
   "codemirror_mode": {
    "name": "ipython",
    "version": 3
   },
   "file_extension": ".py",
   "mimetype": "text/x-python",
   "name": "python",
   "nbconvert_exporter": "python",
   "pygments_lexer": "ipython3",
   "version": "3.9.20"
  }
 },
 "nbformat": 4,
 "nbformat_minor": 2
}
